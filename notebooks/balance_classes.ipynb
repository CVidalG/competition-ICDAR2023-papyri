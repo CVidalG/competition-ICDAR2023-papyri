{
 "cells": [
  {
   "cell_type": "code",
   "execution_count": 70,
   "id": "cd7f25ef",
   "metadata": {},
   "outputs": [],
   "source": [
    "import json\n",
    "from collections import Counter"
   ]
  },
  {
   "cell_type": "code",
   "execution_count": 7,
   "id": "650a3041",
   "metadata": {},
   "outputs": [],
   "source": [
    "file = '/home/noe/Documents/2022-2023/ENC/Python/Pattern_Recognition_Lab/HomerCompTraining/HomerCompTrainingReadCoco.json'"
   ]
  },
  {
   "cell_type": "code",
   "execution_count": 13,
   "id": "d3d02bb4",
   "metadata": {},
   "outputs": [],
   "source": [
    "f = open (file, \"r\")\n",
    "data = json.loads(f.read())"
   ]
  },
  {
   "cell_type": "code",
   "execution_count": 17,
   "id": "acbe6701",
   "metadata": {},
   "outputs": [
    {
     "name": "stdout",
     "output_type": "stream",
     "text": [
      "annotations\n",
      "categories\n",
      "images\n",
      "licenses\n"
     ]
    }
   ],
   "source": [
    "for i in data:\n",
    "    print(i)"
   ]
  },
  {
   "cell_type": "code",
   "execution_count": 87,
   "id": "6c0f52b0",
   "metadata": {},
   "outputs": [
    {
     "data": {
      "text/plain": [
       "'χ'"
      ]
     },
     "execution_count": 87,
     "metadata": {},
     "output_type": "execute_result"
    }
   ],
   "source": [
    "data['categories'][0]['name']"
   ]
  },
  {
   "cell_type": "code",
   "execution_count": 94,
   "id": "863dff48",
   "metadata": {},
   "outputs": [],
   "source": [
    "ids = [d['category_id'] for d in data['annotations']]\n",
    "letters = Counter(ids).most_common()\n",
    "empty = []\n",
    "values = []\n",
    "for i in range(len(letters)):\n",
    "    empty.append(letters[i][0])\n",
    "    values.append(letters[i][1])"
   ]
  },
  {
   "cell_type": "code",
   "execution_count": 88,
   "id": "104995f6",
   "metadata": {},
   "outputs": [],
   "source": [
    "greek_letters = []\n",
    "\n",
    "for i in empty:\n",
    "    greek_letters.append(data['categories'][i-1]['name'])"
   ]
  },
  {
   "cell_type": "code",
   "execution_count": 101,
   "id": "99a6d14b",
   "metadata": {},
   "outputs": [
    {
     "data": {
      "text/plain": [
       "{'Ε': 4081,\n",
       " 'Α': 3783,\n",
       " 'Ο': 3343,\n",
       " 'Ι': 3134,\n",
       " 'Ν': 3027,\n",
       " 'Ϲ': 2552,\n",
       " 'Τ': 2015,\n",
       " 'Ρ': 1562,\n",
       " 'Η': 1462,\n",
       " 'Υ': 1350,\n",
       " 'Μ': 1215,\n",
       " 'Π': 1213,\n",
       " 'Λ': 1212,\n",
       " 'Κ': 1109,\n",
       " 'Δ': 1100,\n",
       " 'Ω': 1052,\n",
       " 'Θ': 610,\n",
       " 'Γ': 497,\n",
       " 'Χ': 473,\n",
       " 'Φ': 402,\n",
       " 'Β': 179,\n",
       " 'Ξ': 103,\n",
       " 'Ζ': 86,\n",
       " 'Ψ': 36,\n",
       " '.': 1}"
      ]
     },
     "execution_count": 101,
     "metadata": {},
     "output_type": "execute_result"
    }
   ],
   "source": [
    "res = dict(zip(greek_letters, values))\n",
    "res"
   ]
  },
  {
   "cell_type": "code",
   "execution_count": null,
   "id": "c6712e2f",
   "metadata": {},
   "outputs": [],
   "source": []
  }
 ],
 "metadata": {
  "kernelspec": {
   "display_name": "Python 3 (ipykernel)",
   "language": "python",
   "name": "python3"
  },
  "language_info": {
   "codemirror_mode": {
    "name": "ipython",
    "version": 3
   },
   "file_extension": ".py",
   "mimetype": "text/x-python",
   "name": "python",
   "nbconvert_exporter": "python",
   "pygments_lexer": "ipython3",
   "version": "3.7.16"
  }
 },
 "nbformat": 4,
 "nbformat_minor": 5
}
