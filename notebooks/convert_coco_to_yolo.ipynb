{
 "cells": [
  {
   "cell_type": "code",
   "execution_count": null,
   "metadata": {},
   "outputs": [],
   "source": [
    "import json\n",
    "import cv2\n",
    "import os"
   ]
  },
  {
   "cell_type": "code",
   "execution_count": null,
   "metadata": {},
   "outputs": [],
   "source": [
    "os.chdir('./data/')\n",
    "f = open('test.json')"
   ]
  },
  {
   "cell_type": "code",
   "execution_count": null,
   "metadata": {},
   "outputs": [],
   "source": [
    "test_data = json.load(f)"
   ]
  },
  {
   "cell_type": "code",
   "execution_count": null,
   "metadata": {},
   "outputs": [],
   "source": [
    "def get_img_shape(path):\n",
    "    img = cv2.imread(path)\n",
    "    try:\n",
    "        return img.shape\n",
    "    except AttributeError:\n",
    "        print('error!', path)\n",
    "        return (None, None, None)"
   ]
  },
  {
   "cell_type": "code",
   "execution_count": null,
   "metadata": {},
   "outputs": [],
   "source": [
    "def convert_labels(path, x1, y1, x2, y2):\n",
    "    def sorting(l1, l2):\n",
    "        if l1 > l2:\n",
    "            lmax, lmin = l1, l2\n",
    "            return lmax, lmin\n",
    "        else:\n",
    "            lmax, lmin = l2, l1\n",
    "            return lmax, lmin\n",
    "    size = get_img_shape(path)\n",
    "    xmax, xmin = sorting(x1, x2)\n",
    "    ymax, ymin = sorting(y1, y2)\n",
    "    dw = 1./size[1]\n",
    "    dh = 1./size[0]\n",
    "    x = (xmin + xmax)/2.0\n",
    "    y = (ymin + ymax)/2.0\n",
    "    w = xmax - xmin\n",
    "    h = ymax - ymin\n",
    "    x = x*dw\n",
    "    w = w*dw\n",
    "    y = y*dh\n",
    "    h = h*dh\n",
    "    return (x,y,w,h)"
   ]
  },
  {
   "cell_type": "code",
   "execution_count": null,
   "metadata": {},
   "outputs": [],
   "source": [
    "check_set = set()"
   ]
  },
  {
   "cell_type": "code",
   "execution_count": null,
   "metadata": {},
   "outputs": [],
   "source": [
    "for i in range(len(test_data['annotations'])):\n",
    "    image_id = str(test_data['annotations'][i]['image_id'])\n",
    "    category_id = str(test_data['annotations'][i]['category_id'])\n",
    "    bbox = test_data['annotations'][i]['bbox']\n",
    "    image_path = image_id + \".jpg\"\n",
    "    kitti_bbox = [bbox[0], bbox[1], bbox[2] + bbox[0], bbox[3] + bbox[1]]\n",
    "    yolo_bbox = convert_labels(image_path, kitti_bbox[0], kitti_bbox[1], kitti_bbox[2], kitti_bbox[3])\n",
    "    filename = image_id + \".txt\"\n",
    "    content = category_id + \" \" + str(yolo_bbox[0]) + \" \" + str(yolo_bbox[1]) + \" \" + str(yolo_bbox[2]) + \" \" + str(yolo_bbox[3])\n",
    "    if image_id in check_set:\n",
    "        # Append to file files\n",
    "        file = open(filename, \"a\")\n",
    "        file.write(\"\\n\")\n",
    "        file.write(content)\n",
    "        file.close()\n",
    "    elif image_id not in check_set:\n",
    "        check_set.add(image_id)\n",
    "        # Write files\n",
    "        file = open(filename, \"w\")\n",
    "        file.write(content)\n",
    "        file.close()"
   ]
  },
  {
   "cell_type": "code",
   "execution_count": null,
   "metadata": {},
   "outputs": [],
   "source": []
  }
 ],
 "metadata": {
  "kernelspec": {
   "display_name": "detectron2",
   "language": "python",
   "name": "python3"
  },
  "language_info": {
   "codemirror_mode": {
    "name": "ipython",
    "version": 3
   },
   "file_extension": ".py",
   "mimetype": "text/x-python",
   "name": "python",
   "nbconvert_exporter": "python",
   "pygments_lexer": "ipython3",
   "version": "3.9.16"
  },
  "orig_nbformat": 4
 },
 "nbformat": 4,
 "nbformat_minor": 2
}
