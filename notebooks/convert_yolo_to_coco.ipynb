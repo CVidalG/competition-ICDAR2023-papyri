{
 "cells": [
  {
   "cell_type": "code",
   "execution_count": null,
   "metadata": {},
   "outputs": [],
   "source": [
    "import json\n",
    "import os\n",
    "from PIL import Image"
   ]
  },
  {
   "cell_type": "code",
   "execution_count": null,
   "metadata": {},
   "outputs": [],
   "source": [
    "folder_path = '/home/chahan/ICDAR_comp/HomerCompTraining/runs/detect/predict_compet/labels/'"
   ]
  },
  {
   "cell_type": "code",
   "execution_count": null,
   "metadata": {},
   "outputs": [],
   "source": [
    "mapping = {\n",
    "    0: 7,\n",
    "    1: 8,\n",
    "    2: 9,\n",
    "    3: 14,\n",
    "    4: 17,\n",
    "    5: 23,\n",
    "    6: 33,\n",
    "    7: 45,\n",
    "    8: 59,\n",
    "    9: 77,\n",
    "    10: 100,\n",
    "    11: 107,\n",
    "    12: 111,\n",
    "    13: 119,\n",
    "    14: 120,\n",
    "    15: 144,\n",
    "    16: 150,\n",
    "    17: 161,\n",
    "    18: 169,\n",
    "    19: 177,\n",
    "    20: 186,\n",
    "    21: 201,\n",
    "    22: 212,\n",
    "    23: 225\n",
    "}"
   ]
  },
  {
   "cell_type": "code",
   "execution_count": null,
   "metadata": {},
   "outputs": [],
   "source": [
    "predictions = []\n",
    "ID_count = 1\n",
    "for filename in os.listdir(folder_path):\n",
    "    if filename.endswith('.txt'):\n",
    "\n",
    "        txt_file_path = os.path.join(folder_path, filename)\n",
    "        with open(txt_file_path, 'r') as f:\n",
    "            lines = f.readlines()\n",
    "\n",
    "\n",
    "        for line in lines:\n",
    "            values = line.strip().split()\n",
    "            class_id = int(values[0])\n",
    "            category_id = mapping.get(class_id, class_id)\n",
    "            x_center = float(values[1])\n",
    "            y_center = float(values[2])\n",
    "            width = float(values[3])\n",
    "            height = float(values[4])\n",
    "            confidence = float(values[5])\n",
    "\n",
    "\n",
    "            image_name = os.path.splitext(filename)[0] + '.jpg'\n",
    "            image_path = os.path.join(folder_path, image_name)\n",
    "            with Image.open(image_path) as img:\n",
    "                image_width, image_height = img.size\n",
    "\n",
    "\n",
    "            left = int((x_center - width/2) * image_width)\n",
    "            top = int((y_center - height/2) * image_height)\n",
    "            bbox_width = int(width * image_width)\n",
    "            bbox_height = int(height * image_height)\n",
    "\n",
    "\n",
    "            prediction = {\n",
    "                'id': ID_count,\n",
    "                'image_id': int(os.path.splitext(filename)[0]),\n",
    "                'category_id': category_id,\n",
    "                'bbox': [left, top, bbox_width, bbox_height],\n",
    "                'iscrowd': 0,\n",
    "                'area': float(bbox_width * bbox_height),\n",
    "                'score': confidence\n",
    "            }\n",
    "\n",
    "\n",
    "            predictions.append(prediction)\n",
    "            \n",
    "            ID_count += 1\n",
    "\n",
    "\n",
    "with open(os.path.join(folder_path, 'predictions.json'), 'w') as f:\n",
    "    json.dump(predictions, f, indent=4)"
   ]
  },
  {
   "cell_type": "code",
   "execution_count": null,
   "metadata": {},
   "outputs": [],
   "source": [
    "### Debug"
   ]
  },
  {
   "cell_type": "code",
   "execution_count": null,
   "metadata": {},
   "outputs": [],
   "source": [
    "import json\n",
    "with open(\"/home/chahan/ICDAR_comp/HomerCompTraining/runs/detect/predict_compet/labels/test.json\", \"r\") as f:\n",
    "  p = json.loads(f.read())\n",
    "print(p)"
   ]
  },
  {
   "cell_type": "code",
   "execution_count": null,
   "metadata": {},
   "outputs": [],
   "source": []
  }
 ],
 "metadata": {
  "kernelspec": {
   "display_name": "yolo",
   "language": "python",
   "name": "python3"
  },
  "language_info": {
   "codemirror_mode": {
    "name": "ipython",
    "version": 3
   },
   "file_extension": ".py",
   "mimetype": "text/x-python",
   "name": "python",
   "nbconvert_exporter": "python",
   "pygments_lexer": "ipython3",
   "version": "3.8.16"
  },
  "orig_nbformat": 4
 },
 "nbformat": 4,
 "nbformat_minor": 2
}
